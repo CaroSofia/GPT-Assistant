{
 "cells": [
  {
   "cell_type": "code",
   "execution_count": null,
   "id": "83bcbce3-7c05-4dba-9e35-be2ffad57b12",
   "metadata": {},
   "outputs": [],
   "source": [
    "#CAROLINA CAMPOS\n",
    "#ALEXANDRA RIVERA"
   ]
  },
  {
   "cell_type": "code",
   "execution_count": 1,
   "id": "9867d5f1-2e33-4c4a-86c6-c87fd2f1d0f0",
   "metadata": {},
   "outputs": [],
   "source": [
    "from IPython.display import display, Image\n",
    "from openai import OpenAI\n",
    "import os\n",
    "import pandas as pd\n",
    "import json\n",
    "import io\n",
    "from PIL import Image\n",
    "import requests"
   ]
  },
  {
   "cell_type": "code",
   "execution_count": 2,
   "id": "7c5f2208-faef-436a-ab57-9d8805c120d4",
   "metadata": {},
   "outputs": [],
   "source": [
    "client = OpenAI(api_key=os.environ.get(\"OPENAI_API_KEY\", \"\")) \n",
    "\n",
    "#Lets import some helper functions for assistants from https://cookbook.openai.com/examples/assistants_api_overview_python\n",
    "\n",
    "# Function to display a JSON File\n",
    "def show_json(obj):\n",
    "    display(json.loads(obj.model_dump_json()))\n",
    "\n",
    "# you can change the model if you are on text only\n",
    "def submit_message(assistant_id, thread, user_message, model=None, file_ids=None):\n",
    "    if model: \n",
    "        client.beta.assistants.update(assistant_id=assistant_id, model=model)\n",
    "\n",
    "    params = {\n",
    "        'thread_id': thread.id,\n",
    "        'role': 'user',\n",
    "        'content': user_message,\n",
    "        }\n",
    "    \n",
    "    if file_ids:\n",
    "        #client.beta.assistants.update(assistant_id=assistant_id, tool_resources={\"code_interpreter\":{\"file_ids\":file_ids}})        \n",
    "        params['attachments'] = [{ \"file_id\": fid, \"tools\": [{\"type\": \"code_interpreter\"}]} for fid in file_ids]\n",
    "        \n",
    "    client.beta.threads.messages.create(**params) # create a thread\n",
    "    return client.beta.threads.runs.create(thread_id=thread.id, assistant_id=assistant_id)\n",
    "\n",
    "def get_response(thread):\n",
    "    return client.beta.threads.messages.list(thread_id=thread.id)"
   ]
  },
  {
   "cell_type": "code",
   "execution_count": 3,
   "id": "1c17b227-2a45-46a0-8a34-5a51f2d40667",
   "metadata": {},
   "outputs": [
    {
     "data": {
      "text/html": [
       "<div>\n",
       "<style scoped>\n",
       "    .dataframe tbody tr th:only-of-type {\n",
       "        vertical-align: middle;\n",
       "    }\n",
       "\n",
       "    .dataframe tbody tr th {\n",
       "        vertical-align: top;\n",
       "    }\n",
       "\n",
       "    .dataframe thead th {\n",
       "        text-align: right;\n",
       "    }\n",
       "</style>\n",
       "<table border=\"1\" class=\"dataframe\">\n",
       "  <thead>\n",
       "    <tr style=\"text-align: right;\">\n",
       "      <th></th>\n",
       "      <th>Year</th>\n",
       "      <th>Quarter</th>\n",
       "      <th>Distribution channel</th>\n",
       "      <th>Revenue ($M)</th>\n",
       "      <th>Costs ($M)</th>\n",
       "      <th>Customer count</th>\n",
       "      <th>Time</th>\n",
       "    </tr>\n",
       "  </thead>\n",
       "  <tbody>\n",
       "    <tr>\n",
       "      <th>0</th>\n",
       "      <td>2021</td>\n",
       "      <td>Q1</td>\n",
       "      <td>Online Sales</td>\n",
       "      <td>1.50</td>\n",
       "      <td>1.301953</td>\n",
       "      <td>150</td>\n",
       "      <td>2021 Q1</td>\n",
       "    </tr>\n",
       "    <tr>\n",
       "      <th>1</th>\n",
       "      <td>2021</td>\n",
       "      <td>Q1</td>\n",
       "      <td>Direct Sales</td>\n",
       "      <td>1.50</td>\n",
       "      <td>1.380809</td>\n",
       "      <td>151</td>\n",
       "      <td>2021 Q1</td>\n",
       "    </tr>\n",
       "    <tr>\n",
       "      <th>2</th>\n",
       "      <td>2021</td>\n",
       "      <td>Q1</td>\n",
       "      <td>Retail Partners</td>\n",
       "      <td>1.50</td>\n",
       "      <td>1.348246</td>\n",
       "      <td>152</td>\n",
       "      <td>2021 Q1</td>\n",
       "    </tr>\n",
       "    <tr>\n",
       "      <th>3</th>\n",
       "      <td>2021</td>\n",
       "      <td>Q2</td>\n",
       "      <td>Online Sales</td>\n",
       "      <td>1.52</td>\n",
       "      <td>1.308608</td>\n",
       "      <td>152</td>\n",
       "      <td>2021 Q2</td>\n",
       "    </tr>\n",
       "    <tr>\n",
       "      <th>4</th>\n",
       "      <td>2021</td>\n",
       "      <td>Q2</td>\n",
       "      <td>Direct Sales</td>\n",
       "      <td>1.52</td>\n",
       "      <td>1.413305</td>\n",
       "      <td>153</td>\n",
       "      <td>2021 Q2</td>\n",
       "    </tr>\n",
       "  </tbody>\n",
       "</table>\n",
       "</div>"
      ],
      "text/plain": [
       "   Year Quarter Distribution channel  Revenue ($M)  Costs ($M)  \\\n",
       "0  2021      Q1         Online Sales          1.50    1.301953   \n",
       "1  2021      Q1         Direct Sales          1.50    1.380809   \n",
       "2  2021      Q1      Retail Partners          1.50    1.348246   \n",
       "3  2021      Q2         Online Sales          1.52    1.308608   \n",
       "4  2021      Q2         Direct Sales          1.52    1.413305   \n",
       "\n",
       "   Customer count     Time  \n",
       "0             150  2021 Q1  \n",
       "1             151  2021 Q1  \n",
       "2             152  2021 Q1  \n",
       "3             152  2021 Q2  \n",
       "4             153  2021 Q2  "
      ]
     },
     "execution_count": 3,
     "metadata": {},
     "output_type": "execute_result"
    }
   ],
   "source": [
    "financial_data_path = 'data_financiera.json'\n",
    "financial_data = pd.read_json(financial_data_path)\n",
    "financial_data.head(5)"
   ]
  },
  {
   "cell_type": "code",
   "execution_count": 4,
   "id": "c0c7265a-d6d2-47df-b81d-13b1cdc00ff2",
   "metadata": {},
   "outputs": [],
   "source": [
    "file = client.files.create(\n",
    "  file=open('data_financiera.json',\"rb\"),\n",
    "  purpose='assistants',\n",
    ")"
   ]
  },
  {
   "cell_type": "code",
   "execution_count": 5,
   "id": "5af3d015-f958-4bf4-8ce9-dcab0285a2cc",
   "metadata": {},
   "outputs": [],
   "source": [
    "assistant = client.beta.assistants.create(\n",
    "  instructions=\"Eres un asistente de ciencia de datos. Cada vez que recibas un query, escribe el codigo que corresponde y crea una visualización apropiada.\",\n",
    "  name = \"data_science_ppt_creator\",\n",
    "  model=\"gpt-4-1106-preview\",\n",
    "  tools=[{\"type\": \"code_interpreter\"}], \n",
    "  # tool_resources={\n",
    "  #     \"code_interpreter\": {\n",
    "  #         \"file_ids\":[file.id]\n",
    "  #     }\n",
    "  # }\n",
    ")"
   ]
  },
  {
   "cell_type": "code",
   "execution_count": 6,
   "id": "87fd7932-927a-4364-aace-fb66b23aad8a",
   "metadata": {},
   "outputs": [],
   "source": [
    "thread = client.beta.threads.create(\n",
    "  messages=[\n",
    "    {\n",
    "      \"role\": \"user\",\n",
    "      \"content\": \"Del archivo .json cargado: Calcular la utilidad (ingreso - gasto)  por cuarto y por año, visualizalo en un grafico de lineas a traves de la distribución de canales, donde los colores de las lineas son rojo, verde, and azul claro\",\n",
    "      \"attachments\": [{\"file_id\": file.id, \"tools\": [{\"type\": \"code_interpreter\"}]}]\n",
    "    }\n",
    "  ]\n",
    ")"
   ]
  },
  {
   "cell_type": "code",
   "execution_count": 7,
   "id": "038316fe-d3a4-428f-bc5a-10a97b39a15e",
   "metadata": {},
   "outputs": [],
   "source": [
    "run = client.beta.threads.runs.create(thread_id=thread.id, assistant_id=assistant.id)"
   ]
  },
  {
   "cell_type": "code",
   "execution_count": 8,
   "id": "41cac0b1-9840-4f47-bbf6-0e2edeebc179",
   "metadata": {},
   "outputs": [],
   "source": [
    "#client.beta.threads.delete(run.thread_id)"
   ]
  },
  {
   "cell_type": "code",
   "execution_count": 9,
   "id": "0d15543e-ced3-4df4-bd71-7452cbd4d0d6",
   "metadata": {},
   "outputs": [],
   "source": [
    "messages = client.beta.threads.messages.list(thread_id=thread.id)"
   ]
  },
  {
   "cell_type": "code",
   "execution_count": 10,
   "id": "c75bb5b5-c321-4aa8-9afa-6919abbfae88",
   "metadata": {},
   "outputs": [
    {
     "data": {
      "text/plain": [
       "SyncCursorPage[Message](data=[Message(id='msg_nSczfZkyui5h5CnmlHO6HBIj', assistant_id=None, attachments=[Attachment(file_id='file-Tc16LaqeMnq18ZwOhoMLOeUr', tools=[CodeInterpreterTool(type='code_interpreter')])], completed_at=None, content=[TextContentBlock(text=Text(annotations=[], value='Del archivo .json cargado: Calcular la utilidad (ingreso - gasto)  por cuarto y por año, visualizalo en un grafico de lineas a traves de la distribución de canales, donde los colores de las lineas son rojo, verde, and azul claro'), type='text')], created_at=1714682645, incomplete_at=None, incomplete_details=None, metadata={}, object='thread.message', role='user', run_id=None, status=None, thread_id='thread_mI8s84l8LGDccJAJ9OB7PZ0W')], object='list', first_id='msg_nSczfZkyui5h5CnmlHO6HBIj', last_id='msg_nSczfZkyui5h5CnmlHO6HBIj', has_more=False)"
      ]
     },
     "execution_count": 10,
     "metadata": {},
     "output_type": "execute_result"
    }
   ],
   "source": [
    "messages"
   ]
  },
  {
   "cell_type": "code",
   "execution_count": 11,
   "id": "19400d4c-07ad-45fd-a173-0302498c2fee",
   "metadata": {},
   "outputs": [
    {
     "name": "stdout",
     "output_type": "stream",
     "text": [
      "Assistant still working...\n",
      "Assistant still working...\n",
      "Assistant still working...\n",
      "Assistant still working...\n",
      "Assistant still working...\n",
      "Assistant still working...\n",
      "Assistant still working...\n",
      "Assistant still working...\n",
      "Assistant still working...\n",
      "Assistant still working...\n",
      "Assistant still working...\n",
      "Assistant still working...\n",
      "Assistant still working...\n",
      "Assistant still working...\n",
      "Assistant still working...\n",
      "Plot created!\n"
     ]
    }
   ],
   "source": [
    "import time\n",
    "\n",
    "while True:\n",
    "    messages = client.beta.threads.messages.list(thread_id=thread.id)\n",
    "    try:\n",
    "        #See if image has been created\n",
    "        messages.data[0].content[0].image_file\n",
    "        #Sleep to make sure run has completed\n",
    "        time.sleep(5)\n",
    "        print('Plot created!')\n",
    "        break\n",
    "    except:\n",
    "        time.sleep(10)\n",
    "        print('Assistant still working...')"
   ]
  },
  {
   "cell_type": "code",
   "execution_count": 12,
   "id": "244de509-ec43-43bd-aa8f-999b008c36d8",
   "metadata": {},
   "outputs": [],
   "source": [
    "# to stop the runs\n",
    "#client.beta.threads.runs.cancel(run_id=run.id, thread_id=thread.id)"
   ]
  },
  {
   "cell_type": "code",
   "execution_count": 13,
   "id": "4fecec48-572f-43c6-be88-727662c65cfa",
   "metadata": {},
   "outputs": [
    {
     "data": {
      "text/plain": [
       "[ImageFileContentBlock(image_file=ImageFile(file_id='file-gCwHSRnhGDXMoPKrwaWUePbT'), type='image_file'),\n",
       " TextContentBlock(text=Text(annotations=[], value='Los datos se han importado correctamente a un DataFrame de Pandas, lo que facilitará el cálculo y la visualización. El siguiente paso es calcular la utilidad para cada fila restando el gasto del ingreso, y luego agrupar los datos por año, cuarto y canal de distribución para visualizar las líneas de utilidad por canal de distribución y los colores requeridos.\\n\\nProcederé a realizar estos cálculos y luego crear el gráfico de líneas.'), type='text'),\n",
       " TextContentBlock(text=Text(annotations=[], value=\"El objeto JSON cuenta con una estructura de diccionario en la que cada clave representa una columna distinta que contiene datos relevantes (como 'Year', 'Quarter', 'Distribution channel', 'Income', 'Expense', 'Gross margin', 'Customer count', y 'Time'). Cada clave tiene un diccionario asociado con índices numerados que parecen representar filas.\\n\\nPara calcular la utilidad por cuarto y año a través de la distribución de canales, tendremos que combinar la información proporcionada en las claves 'Income' y 'Expense' para cada una de las combinaciones de 'Year', 'Quarter' y 'Distribution channel'. Con estos datos, podremos graficar la utilidad como una serie de tiempo.\\n\\nVoy a extraer los datos de ingreso, gasto y la información de distribución de canal, año y cuarto para luego calcular la utilidad y visualizarla mediante un gráfico de líneas de acuerdo a las especificaciones dadas.\"), type='text'),\n",
       " TextContentBlock(text=Text(annotations=[], value='Parece que el objeto que intentamos rebanar no es una lista, lo que sugiere que podría ser un diccionario o un JSON con una estructura de alto nivel diferente a una lista. Vamos a imprimir todo el objeto para entender mejor su estructura y corregir nuestra aproximación.'), type='text'),\n",
       " TextContentBlock(text=Text(annotations=[], value='Para comenzar, necesitamos cargar el archivo JSON y explorar su estructura para entender cómo están organizados los datos de ingresos y gastos. Usaremos Python para cargar los datos y examinar la estructura del archivo JSON, antes de calcular la utilidad (ingreso - gasto) por cuarto y año. Luego, visualizaremos los resultados con un gráfico de líneas, utilizando los colores solicitados para cada distribución de canal. Vamos a cargar el archivo y echar un vistazo a su contenido.'), type='text'),\n",
       " TextContentBlock(text=Text(annotations=[], value='Del archivo .json cargado: Calcular la utilidad (ingreso - gasto)  por cuarto y por año, visualizalo en un grafico de lineas a traves de la distribución de canales, donde los colores de las lineas son rojo, verde, and azul claro'), type='text')]"
      ]
     },
     "execution_count": 13,
     "metadata": {},
     "output_type": "execute_result"
    }
   ],
   "source": [
    "messages = client.beta.threads.messages.list(thread_id=thread.id)\n",
    "[message.content[0] for message in messages.data]"
   ]
  },
  {
   "cell_type": "code",
   "execution_count": 14,
   "id": "d928aa5c-09cd-4dba-aaef-bb07d17f6a58",
   "metadata": {},
   "outputs": [],
   "source": [
    "# Quick helper function to convert our output file to a png\n",
    "def convert_file_to_png(file_id, write_path):\n",
    "    data = client.files.content(file_id)\n",
    "    data_bytes = data.read()\n",
    "    with open(write_path, \"wb\") as file:\n",
    "        file.write(data_bytes)"
   ]
  },
  {
   "cell_type": "code",
   "execution_count": 15,
   "id": "8b9d8d8d-49f5-4591-bbad-b5a5c0d8847b",
   "metadata": {},
   "outputs": [],
   "source": [
    "plot_file_id = messages.data[0].content[0].image_file.file_id\n",
    "image_path = \"grafica_financiera.png\"\n",
    "convert_file_to_png(plot_file_id,image_path)\n",
    "\n",
    "#Upload\n",
    "plot_file = client.files.create(\n",
    "  file=open(image_path, \"rb\"),\n",
    "  purpose='assistants'\n",
    ")"
   ]
  },
  {
   "cell_type": "code",
   "execution_count": 16,
   "id": "02a1c39c-0d73-45aa-a1b0-2b4233460cf0",
   "metadata": {},
   "outputs": [
    {
     "data": {
      "text/plain": [
       "Run(id='run_AWlI4254vrPWuUBwAEAsJaIr', assistant_id='asst_rkXIKJhqTuUdygLi6udzLFj9', cancelled_at=None, completed_at=None, created_at=1714682815, expires_at=1714683415, failed_at=None, incomplete_details=None, instructions='Eres un asistente de ciencia de datos. Cada vez que recibas un query, escribe el codigo que corresponde y crea una visualización apropiada.', last_error=None, max_completion_tokens=None, max_prompt_tokens=None, metadata={}, model='gpt-4-turbo', object='thread.run', required_action=None, response_format='auto', started_at=None, status='queued', thread_id='thread_mI8s84l8LGDccJAJ9OB7PZ0W', tool_choice='auto', tools=[CodeInterpreterTool(type='code_interpreter')], truncation_strategy=TruncationStrategy(type='auto', last_messages=None), usage=None, temperature=1.0, top_p=1.0, tool_resources={})"
      ]
     },
     "execution_count": 16,
     "metadata": {},
     "output_type": "execute_result"
    }
   ],
   "source": [
    "submit_message(assistant_id=assistant.id, \n",
    "               thread=thread, \n",
    "               model=\"gpt-4-turbo\", \n",
    "               file_ids=None,\n",
    "               user_message=\"Escribe dos oraciones de largo aproximadamente medio (~20-30 palabras por oracion) de \\\n",
    "lo mas importante captado de la gráfica que acabas de crear. Esta grafica será añadida para un  conjunto de diapositivas, \\\n",
    "y ellas deberian representar acerca del '¿Que hay detras de los datos?'.\")"
   ]
  },
  {
   "cell_type": "code",
   "execution_count": 17,
   "id": "68b3b2c9-9e01-47ff-b201-87da2780b892",
   "metadata": {},
   "outputs": [
    {
     "name": "stdout",
     "output_type": "stream",
     "text": [
      "En la gráfica, se observa que las ventas en línea ('Online Sales') muestran una tendencia creciente de utilidades año tras año, lo que indica una expansión robusta y exponencial de este canal.\n",
      "Por otro lado, 'Direct Sales' y 'Retail Partners' experimentan fluctuaciones menores en su utilidad, sugiriendo una estabilidad en estos canales que podría reflejar estrategias de marketing y ventas consistentes a lo largo del tiempo.\n"
     ]
    }
   ],
   "source": [
    "# Hard coded wait for a response, as the assistant may iterate on the bullets.\n",
    "time.sleep(10)\n",
    "response = get_response(thread)\n",
    "bullet_points = response.data[0].content[0].text.value\n",
    "print(bullet_points)"
   ]
  },
  {
   "cell_type": "code",
   "execution_count": 18,
   "id": "6f0be0ba-86f1-44c9-a06a-b76002e927bb",
   "metadata": {},
   "outputs": [
    {
     "data": {
      "text/plain": [
       "Run(id='run_KTTCwSMiknVmppQZtrywwmxj', assistant_id='asst_rkXIKJhqTuUdygLi6udzLFj9', cancelled_at=None, completed_at=None, created_at=1714682860, expires_at=1714683460, failed_at=None, incomplete_details=None, instructions='Eres un asistente de ciencia de datos. Cada vez que recibas un query, escribe el codigo que corresponde y crea una visualización apropiada.', last_error=None, max_completion_tokens=None, max_prompt_tokens=None, metadata={}, model='gpt-4-turbo', object='thread.run', required_action=None, response_format='auto', started_at=None, status='queued', thread_id='thread_mI8s84l8LGDccJAJ9OB7PZ0W', tool_choice='auto', tools=[CodeInterpreterTool(type='code_interpreter')], truncation_strategy=TruncationStrategy(type='auto', last_messages=None), usage=None, temperature=1.0, top_p=1.0, tool_resources={})"
      ]
     },
     "execution_count": 18,
     "metadata": {},
     "output_type": "execute_result"
    }
   ],
   "source": [
    "submit_message(assistant_id=assistant.id, thread=thread, model=\"gpt-4-turbo\", user_message=\"Dada la gráfica y las viñetas que has creado,\\\n",
    " piense en un titulo muy breve para una diapositiva. Debe reflejar solo las ideas principales que se te ocurrieron.\"\n",
    ")"
   ]
  },
  {
   "cell_type": "code",
   "execution_count": 19,
   "id": "910ea195-b2dd-40c6-aa6d-e09762257eae",
   "metadata": {},
   "outputs": [
    {
     "name": "stdout",
     "output_type": "stream",
     "text": [
      "\"Tendencias de Utilidad en Diversos Canales de Distribución: Crecimiento y Estabilidad\"\n"
     ]
    }
   ],
   "source": [
    "#Wait as assistant may take a few steps\n",
    "time.sleep(10)\n",
    "response = get_response(thread)\n",
    "title = response.data[0].content[0].text.value\n",
    "print(title)"
   ]
  },
  {
   "cell_type": "code",
   "execution_count": 20,
   "id": "78eeb580-4730-4824-8b33-e34e191f58b7",
   "metadata": {},
   "outputs": [],
   "source": [
    "#3. DALL·E-3 title image\n",
    "\n",
    "company_summary = \"MiEmpresaFinanciera es una empresa prominente de hardware que manufactura y vende procesadores, tarjetas gráficas\\\n",
    " y otras piezas esenciales de hardware de computadoras.\""
   ]
  },
  {
   "cell_type": "code",
   "execution_count": 21,
   "id": "12c74ea9-b46e-472f-9313-47a72b7a623b",
   "metadata": {},
   "outputs": [],
   "source": [
    "response = client.images.generate(\n",
    "  model='dall-e-3',\n",
    "  prompt=f\"Dado este resumen de la empresa {company_summary}, crea una foto inspiradora que \\\n",
    "  muestre el crecimiento y el camino a seguir. Esto se utilizará en una reunión trimestral \\\n",
    "  de planificación financiera\",\n",
    "       size=\"1024x1024\",\n",
    "       quality=\"hd\",\n",
    "       n=1\n",
    ")\n",
    "image_url = response.data[0].url"
   ]
  },
  {
   "cell_type": "code",
   "execution_count": 22,
   "id": "901fceec-9fde-4535-8ce6-75a155a196f8",
   "metadata": {},
   "outputs": [],
   "source": [
    "dalle_img_path = 'imagen_dalle3.png'\n",
    "img = requests.get(image_url)\n",
    "\n",
    "#Save locally\n",
    "with open(dalle_img_path,'wb') as file:\n",
    "  file.write(img.content)\n",
    "\n",
    "#Upload\n",
    "dalle_file = client.files.create(\n",
    "  file=open(dalle_img_path, \"rb\"),\n",
    "  purpose='assistants'\n",
    ")"
   ]
  },
  {
   "cell_type": "code",
   "execution_count": 24,
   "id": "fa2685b6-4a55-4ca0-9a4f-f32094b506e1",
   "metadata": {},
   "outputs": [],
   "source": [
    "#4. Creating the slides\n",
    "\n",
    "title_template = \"\"\"\n",
    "from pptx import Presentation\n",
    "from pptx.util import Inches, Pt\n",
    "from pptx.enum.text import PP_PARAGRAPH_ALIGNMENT\n",
    "from pptx.dml.color import RGBColor\n",
    "\n",
    "# Create a new presentation object\n",
    "prs = Presentation()\n",
    "\n",
    "# Add a blank slide layout\n",
    "blank_slide_layout = prs.slide_layouts[6]\n",
    "slide = prs.slides.add_slide(blank_slide_layout)\n",
    "\n",
    "# Set the background color of the slide to black\n",
    "background = slide.background\n",
    "fill = background.fill\n",
    "fill.solid()\n",
    "fill.fore_color.rgb = RGBColor(0, 0, 0)\n",
    "\n",
    "# Add image to the left side of the slide with a margin at the top and bottom\n",
    "left = Inches(0)\n",
    "top = Inches(0)\n",
    "height = prs.slide_height\n",
    "width = prs.slide_width * 3/5\n",
    "pic = slide.shapes.add_picture(image_path, left, top, width=width, height=height)\n",
    "\n",
    "# Add title text box positioned higher\n",
    "left = prs.slide_width * 3/5\n",
    "top = Inches(2)\n",
    "width = prs.slide_width * 2/5\n",
    "height = Inches(1)\n",
    "title_box = slide.shapes.add_textbox(left, top, width, height)\n",
    "title_frame = title_box.text_frame\n",
    "title_p = title_frame.add_paragraph()\n",
    "title_p.text = title_text\n",
    "title_p.font.bold = True\n",
    "title_p.font.size = Pt(38)\n",
    "title_p.font.color.rgb = RGBColor(255, 255, 255)\n",
    "title_p.alignment = PP_PARAGRAPH_ALIGNMENT.CENTER\n",
    "\n",
    "# Add subtitle text box\n",
    "left = prs.slide_width * 3/5\n",
    "top = Inches(3)\n",
    "width = prs.slide_width * 2/5\n",
    "height = Inches(1)\n",
    "subtitle_box = slide.shapes.add_textbox(left, top, width, height)\n",
    "subtitle_frame = subtitle_box.text_frame\n",
    "subtitle_p = subtitle_frame.add_paragraph()\n",
    "subtitle_p.text = subtitle_text\n",
    "subtitle_p.font.size = Pt(22)\n",
    "subtitle_p.font.color.rgb = RGBColor(255, 255, 255)\n",
    "subtitle_p.alignment = PP_PARAGRAPH_ALIGNMENT.CENTER\n",
    "\"\"\"\n",
    "\n",
    "data_vis_template = \"\"\"\n",
    "from pptx import Presentation\n",
    "from pptx.util import Inches, Pt\n",
    "from pptx.enum.text import PP_PARAGRAPH_ALIGNMENT\n",
    "from pptx.dml.color import RGBColor\n",
    "\n",
    "# Create a new presentation object\n",
    "prs = Presentation()\n",
    "\n",
    "# Add a blank slide layout\n",
    "blank_slide_layout = prs.slide_layouts[6]\n",
    "slide = prs.slides.add_slide(blank_slide_layout)\n",
    "\n",
    "# Set the background color of the slide to black\n",
    "background = slide.background\n",
    "fill = background.fill\n",
    "fill.solid()\n",
    "fill.fore_color.rgb = RGBColor(0, 0, 0)\n",
    "\n",
    "# Define placeholders\n",
    "image_path = data_vis_img\n",
    "title_text = \"Maximizando Beneficios: El Dominio de las Ventas Activas & Optimización de Venta Directa\"\n",
    "bullet_points = \"• Las ventas online consistentemente llevan a ganancias en los cuartos, indicando una fuerte presencia de marketing digital.\\n• Las ventas directas muestran fluctuaciones, sugiriendo desempeño variable y la necesidas de apuntar mejoras en el canal.\"\n",
    "\n",
    "# Add image placeholder on the left side of the slide\n",
    "left = Inches(0.2)\n",
    "top = Inches(1.8)\n",
    "height = prs.slide_height - Inches(3)\n",
    "width = prs.slide_width * 3/5\n",
    "pic = slide.shapes.add_picture(image_path, left, top, width=width, height=height)\n",
    "\n",
    "# Add title text spanning the whole width\n",
    "left = Inches(0)\n",
    "top = Inches(0)\n",
    "width = prs.slide_width\n",
    "height = Inches(1)\n",
    "title_box = slide.shapes.add_textbox(left, top, width, height)\n",
    "title_frame = title_box.text_frame\n",
    "title_frame.margin_top = Inches(0.1)\n",
    "title_p = title_frame.add_paragraph()\n",
    "title_p.text = title_text\n",
    "title_p.font.bold = True\n",
    "title_p.font.size = Pt(28)\n",
    "title_p.font.color.rgb = RGBColor(255, 255, 255)\n",
    "title_p.alignment = PP_PARAGRAPH_ALIGNMENT.CENTER\n",
    "\n",
    "# Add hardcoded \"Key Insights\" text and bullet points\n",
    "left = prs.slide_width * 2/3\n",
    "top = Inches(1.5)\n",
    "width = prs.slide_width * 1/3\n",
    "height = Inches(4.5)\n",
    "insights_box = slide.shapes.add_textbox(left, top, width, height)\n",
    "insights_frame = insights_box.text_frame\n",
    "insights_p = insights_frame.add_paragraph()\n",
    "insights_p.text = \"Key Insights:\"\n",
    "insights_p.font.bold = True\n",
    "insights_p.font.size = Pt(24)\n",
    "insights_p.font.color.rgb = RGBColor(0, 128, 100)\n",
    "insights_p.alignment = PP_PARAGRAPH_ALIGNMENT.LEFT\n",
    "insights_frame.add_paragraph()\n",
    "\n",
    "\n",
    "bullet_p = insights_frame.add_paragraph()\n",
    "bullet_p.text = bullet_points\n",
    "bullet_p.font.size = Pt(12)\n",
    "bullet_p.font.color.rgb = RGBColor(255, 255, 255)\n",
    "bullet_p.line_spacing = 1.5\n",
    "\"\"\""
   ]
  },
  {
   "cell_type": "code",
   "execution_count": 25,
   "id": "a9feadd8-cb68-44ee-bcf7-2275c85466a6",
   "metadata": {},
   "outputs": [],
   "source": [
    "title_text = \"MiEmpresaFinanciera\"\n",
    "subtitle_text = \"Reunion de Planificacion del Q3, 2023\""
   ]
  },
  {
   "cell_type": "code",
   "execution_count": 26,
   "id": "01cc0e19-4718-46a6-bc52-14ec2b1c1ffe",
   "metadata": {},
   "outputs": [
    {
     "data": {
      "text/plain": [
       "Run(id='run_Bi1tjjhkumtqUwcaL6W8ONu9', assistant_id='asst_rkXIKJhqTuUdygLi6udzLFj9', cancelled_at=None, completed_at=None, created_at=1714683104, expires_at=1714683704, failed_at=None, incomplete_details=None, instructions='Eres un asistente de ciencia de datos. Cada vez que recibas un query, escribe el codigo que corresponde y crea una visualización apropiada.', last_error=None, max_completion_tokens=None, max_prompt_tokens=None, metadata={}, model='gpt-4-turbo', object='thread.run', required_action=None, response_format='auto', started_at=None, status='queued', thread_id='thread_mI8s84l8LGDccJAJ9OB7PZ0W', tool_choice='auto', tools=[CodeInterpreterTool(type='code_interpreter')], truncation_strategy=TruncationStrategy(type='auto', last_messages=None), usage=None, temperature=1.0, top_p=1.0, tool_resources={})"
      ]
     },
     "execution_count": 26,
     "metadata": {},
     "output_type": "execute_result"
    }
   ],
   "source": [
    "run = submit_message(assistant_id=assistant.id, thread=thread, model=\"gpt-4-turbo\", user_message=f\"IMPORTANTE: Utilizar {dalle_file.filename} \\\n",
    "con key_id {dalle_file.id}; utilizar {plot_file.filename} con key_id {plot_file.id} en filmina 2. Utilice la plantilla de código incluida \\\n",
    "para crear una diapositiva PPTX que siga el formato de la plantilla, pero utilice la imagen, el nombre/título de la empresa y el nombre/subtítulo \\\n",
    "del documento incluidos:{title_template}. IMPORTANTE: utilice el archivo de imagen incluido en este mensaje como imagen image_path en esta primera \\\n",
    "diapositiva y utilice el nombre de la empresa {title_text} como variable title_text y  utilice subtitle_text {subtitle_text} como \\\n",
    "variable subtitle_text. A CONTINUACIÓN, cree una SEGUNDA diapositiva usando la siguiente plantilla de código: {data_vis_template} para crear \\\n",
    "una diapositiva PPTX que siga el formato de la plantilla, pero use el nombre/título de la empresa y el nombre/subtítulo del \\\n",
    "documento incluidos: {data_vis_template}. IMPORTANTE: use la imagen del diagrama de líneas, que es la segunda imagen adjunta en \\\n",
    "este mensaje, que creó anteriormente en thread como imagen data_vis_img, y use el título de visualización de datos que creó anteriormente \\\n",
    "para la variable title_text, y las viñetas de conocimientos que creó anteriormente para la variable bullet_points. \\\n",
    "Imprima estas DOS DIAPOSITIVAS como un archivo .pptx. Asegúrese de que el resultado sean dos diapositivas, y que cada diapositiva coincida \\\n",
    "con la plantilla respectiva proporcionada en este mensaje.\",\n",
    "file_ids=[plot_file.id, dalle_file.id]\n",
    ")\n",
    "run"
   ]
  },
  {
   "cell_type": "code",
   "execution_count": 27,
   "id": "7b256711-4c3f-4d63-a0e6-bbd47cf732bd",
   "metadata": {},
   "outputs": [],
   "source": [
    "# cancelar la corrida\n",
    "#client.beta.threads.runs.cancel(run_id=run.id, thread_id=thread.id)"
   ]
  },
  {
   "cell_type": "code",
   "execution_count": 28,
   "id": "13d7df33-83cb-4b75-8911-542460c63206",
   "metadata": {},
   "outputs": [
    {
     "name": "stdout",
     "output_type": "stream",
     "text": [
      "Assistant still working on PPTX...\n",
      "Assistant still working on PPTX...\n",
      "Assistant still working on PPTX...\n",
      "Assistant still working on PPTX...\n",
      "Assistant still working on PPTX...\n",
      "Successfully retrieved pptx_id: file-jgmWUX7r42Bs5RIIMZPZsPCF\n"
     ]
    }
   ],
   "source": [
    "#May take 1-3 mins\n",
    "while True:\n",
    "    try:\n",
    "        response = get_response(thread)\n",
    "        pptx_id = response.data[0].content[0].text.annotations[0].file_path.file_id\n",
    "        print(\"Successfully retrieved pptx_id:\", pptx_id)\n",
    "        break\n",
    "    except Exception as e:\n",
    "        print(\"Assistant still working on PPTX...\")\n",
    "        time.sleep(10)"
   ]
  },
  {
   "cell_type": "code",
   "execution_count": 29,
   "id": "d6b07ce0-097d-4376-ac89-e6a201b5f041",
   "metadata": {},
   "outputs": [],
   "source": [
    "# para detener la tarea\n",
    "#client.beta.threads.delete(thread_id=thread.id)"
   ]
  },
  {
   "cell_type": "code",
   "execution_count": 30,
   "id": "66e7e43b-842a-49b6-876a-6ce3427aabd3",
   "metadata": {},
   "outputs": [],
   "source": [
    "pptx_id = response.data[0].content[0].text.annotations[0].file_path.file_id\n",
    "ppt_file= client.files.content(pptx_id)\n",
    "file_obj = io.BytesIO(ppt_file.read())\n",
    "with open(\"filminas_creadas.pptx\", \"wb\") as f:\n",
    "    f.write(file_obj.getbuffer())"
   ]
  },
  {
   "cell_type": "code",
   "execution_count": 31,
   "id": "6570209a-9ec4-486a-8279-68aee686ec25",
   "metadata": {},
   "outputs": [],
   "source": [
    "#client.beta.threads.delete(thread_id=)\n",
    "#client.beta.threads.runs.cancel(run_id=)\n",
    "#client.beta.assistants.delete(assistant_id=asst_VHenAVYAorsqJ9bgtXDh1603)"
   ]
  },
  {
   "cell_type": "code",
   "execution_count": null,
   "id": "1b76ae7e-9db6-4ab5-89e9-359349dcf2ac",
   "metadata": {},
   "outputs": [],
   "source": []
  }
 ],
 "metadata": {
  "kernelspec": {
   "display_name": "Python 3 (ipykernel)",
   "language": "python",
   "name": "python3"
  },
  "language_info": {
   "codemirror_mode": {
    "name": "ipython",
    "version": 3
   },
   "file_extension": ".py",
   "mimetype": "text/x-python",
   "name": "python",
   "nbconvert_exporter": "python",
   "pygments_lexer": "ipython3",
   "version": "3.10.14"
  }
 },
 "nbformat": 4,
 "nbformat_minor": 5
}
